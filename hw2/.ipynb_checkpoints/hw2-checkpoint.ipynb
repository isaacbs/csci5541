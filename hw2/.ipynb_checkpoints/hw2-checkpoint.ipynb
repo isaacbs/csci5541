{
 "cells": [
  {
   "cell_type": "code",
   "execution_count": 63,
   "id": "94a98401",
   "metadata": {},
   "outputs": [],
   "source": [
    "import nltk\n",
    "from nltk.corpus import stopwords\n",
    "from nltk.lm.preprocessing import flatten, pad_both_ends, padded_everygram_pipeline\n",
    "from nltk.lm import MLE\n",
    "from nltk.util import bigrams\n",
    "from nltk.util import everygrams\n",
    "\n",
    "import string\n",
    "\n",
    "\n",
    "def data_preprocessing(name):\n",
    "    # Declare necessary variables \n",
    "    clean_words = {}\n",
    "    \n",
    "    sentences = []\n",
    "    ftemp = open(name[:-1], 'r', encoding='utf-8')\n",
    "    temp_lines = ftemp.readlines()\n",
    "    real_lines = \"\"\n",
    "    for line in temp_lines:\n",
    "        real_lines += line\n",
    "    sentences = real_lines.split('.')\n",
    "\n",
    "    # Clean the data \n",
    "    table = str.maketrans('', '', string.punctuation)\n",
    "    stripped = []\n",
    "    clean_sentences = []\n",
    "    padded = []\n",
    "    for sentence in sentences[:-1]:\n",
    "        stripped = sentence.translate(table)\n",
    "        lower = stripped.lower()\n",
    "        individual_sentence = lower.split()\n",
    "\n",
    "        # Remove non-alphabetic strings (i.e. punctuation) from the data\n",
    "        clean_sentence = []\n",
    "        stop_words = set(stopwords.words('english'))\n",
    "        for word in individual_sentence:\n",
    "            alpha = \"\" \n",
    "            for index in word:\n",
    "                if index.isalpha():\n",
    "                    alpha += index\n",
    "            if alpha != \"\":\n",
    "                clean_sentence += [alpha]\n",
    "        clean_sentences += [clean_sentence]\n",
    "\n",
    "    train, vocab = padded_everygram_pipeline(3, clean_sentences)\n",
    "\n",
    "    ftemp.close()\n",
    "    clean_words[name[:-1]] = (train, vocab, clean_sentences)\n",
    "    \n",
    "    return clean_words"
   ]
  },
  {
   "cell_type": "code",
   "execution_count": 64,
   "id": "5d8777b1",
   "metadata": {},
   "outputs": [],
   "source": [
    "# Our data has been processed and cleaned, now we train our model\n",
    "def model_training(name, model, order):\n",
    "    lm = MLE(order)\n",
    "\n",
    "    train = model[0]\n",
    "    vocab = model[1]\n",
    "    lm.fit(train, vocab)\n",
    "\n",
    "    return lm\n",
    "\n",
    "def use_model(model, sequence):\n",
    "    print(model.perplexity(sequence))"
   ]
  },
  {
   "cell_type": "code",
   "execution_count": null,
   "id": "e8254062",
   "metadata": {},
   "outputs": [],
   "source": [
    "# Open the file indicating which text files to read in\n",
    "f = open(authorlist, \"r\")\n",
    "file_names = f.readlines()\n",
    "print(\"List of files we will be reading in: \", file_names)\n",
    "\n",
    "# Read in each file and process it's data\n",
    "for name in file_names:\n",
    "    "
   ]
  },
  {
   "cell_type": "code",
   "execution_count": 65,
   "id": "bc3e4af6",
   "metadata": {},
   "outputs": [
    {
     "name": "stdout",
     "output_type": "stream",
     "text": [
      "\n",
      "Processing the data...\n",
      "List of files we will be reading in:  ['austen_utf8.txt\\n', 'dickens_utf8.txt\\n', 'tolstoy_utf8.txt\\n', 'wilde_utf8.txt\\n']\n"
     ]
    }
   ],
   "source": [
    "print(\"\\nProcessing the data...\")\n",
    "processed_data = data_preprocessing('authorlist.txt')"
   ]
  },
  {
   "cell_type": "code",
   "execution_count": 67,
   "id": "cacaf4a2",
   "metadata": {},
   "outputs": [
    {
     "name": "stdout",
     "output_type": "stream",
     "text": [
      "\n",
      "Training the model...\n",
      "austen_utf8.txt\n",
      "<generator object padded_everygram_pipeline.<locals>.<genexpr> at 0x000002EA13C26740>\n",
      "dickens_utf8.txt\n",
      "<generator object padded_everygram_pipeline.<locals>.<genexpr> at 0x000002EA19CD8900>\n",
      "tolstoy_utf8.txt\n",
      "<generator object padded_everygram_pipeline.<locals>.<genexpr> at 0x000002EA150F8970>\n",
      "wilde_utf8.txt\n",
      "<generator object padded_everygram_pipeline.<locals>.<genexpr> at 0x000002EA1477BC10>\n"
     ]
    }
   ],
   "source": [
    "print(\"\\nTraining the model...\")\n",
    "model_list = []\n",
    "sentence_data = []\n",
    "\n",
    "for key, value in processed_data.items():\n",
    "    print(key)\n",
    "    print(value[0])\n",
    "    model_list += [model_training(key, value, 3)]\n",
    "    sentence_data += value[2]\n",
    "#     print(sentence_data)"
   ]
  },
  {
   "cell_type": "code",
   "execution_count": 68,
   "id": "937bc233",
   "metadata": {},
   "outputs": [
    {
     "name": "stdout",
     "output_type": "stream",
     "text": [
      "\n",
      "Using the trained model...\n",
      "['family', 'may', 'be']\n",
      "135.215395295802\n"
     ]
    }
   ],
   "source": [
    "print(\"\\nUsing the trained model...\")\n",
    "use_model(model_list[0], [('i','went'),('to','the')])"
   ]
  },
  {
   "cell_type": "code",
   "execution_count": 69,
   "id": "816f1587",
   "metadata": {},
   "outputs": [
    {
     "data": {
      "text/plain": [
       "['but',\n",
       " 'without',\n",
       " 'any',\n",
       " 'such',\n",
       " 'a',\n",
       " 'girl',\n",
       " 'with',\n",
       " 'charlotte',\n",
       " 'out',\n",
       " 'of',\n",
       " 'it',\n",
       " 'may',\n",
       " 'be',\n",
       " 'talked',\n",
       " 'about',\n",
       " 'her',\n",
       " '</s>',\n",
       " 'course',\n",
       " 'may',\n",
       " 'suppose',\n",
       " 'mr',\n",
       " '</s>',\n",
       " 'constant',\n",
       " 'source',\n",
       " 'of',\n",
       " 'patience',\n",
       " 'selfcontrol',\n",
       " 'but',\n",
       " 'if',\n",
       " 'that',\n",
       " 'love',\n",
       " 'of',\n",
       " 'things',\n",
       " 'of',\n",
       " 'course',\n",
       " '</s>',\n",
       " 'what',\n",
       " 'is',\n",
       " 'capableat',\n",
       " 'least',\n",
       " 'knew',\n",
       " 'that',\n",
       " 'to',\n",
       " 'eat',\n",
       " 'any',\n",
       " 'thing',\n",
       " 'about',\n",
       " 'the',\n",
       " 'chief',\n",
       " 'of']"
      ]
     },
     "execution_count": 69,
     "metadata": {},
     "output_type": "execute_result"
    }
   ],
   "source": [
    "model_list[0].generate(50, random_seed=8)"
   ]
  },
  {
   "cell_type": "code",
   "execution_count": 70,
   "id": "9073ebb3",
   "metadata": {},
   "outputs": [],
   "source": [
    "def data_preprocessing(name, test):\n",
    "    # Declare necessary variables \n",
    "    clean_words = {}\n",
    "    \n",
    "    sentences = []\n",
    "    ftemp = open(name[:-1], 'r', encoding='utf-8')\n",
    "    temp_lines = ftemp.readlines()\n",
    "    real_lines = \"\"\n",
    "    for line in temp_lines:\n",
    "        real_lines += line\n",
    "    sentences = real_lines.split('.')\n",
    "\n",
    "    # Clean the data \n",
    "    table = str.maketrans('', '', string.punctuation)\n",
    "    stripped = []\n",
    "    clean_sentences = []\n",
    "    for sentence in sentences[:-1]:\n",
    "        stripped = sentence.translate(table)\n",
    "        lower = stripped.lower()\n",
    "        individual_sentence = lower.split()\n",
    "\n",
    "        # Remove non-alphabetic strings (i.e. punctuation) from the data\n",
    "        clean_sentence = []\n",
    "        for word in individual_sentence:\n",
    "            alpha = \"\" \n",
    "            for index in word:\n",
    "                if index.isalpha():\n",
    "                    alpha += index\n",
    "            if alpha != \"\":\n",
    "                clean_sentence += [alpha]\n",
    "        clean_sentences += [clean_sentence]\n",
    "\n",
    "    ftemp.close()\n",
    "    if not test:\n",
    "        train, vocab = padded_everygram_pipeline(3, clean_sentences)\n",
    "        return [name, (train, vocab), []]\n",
    "    else:\n",
    "        # Break data into train and dev set\n",
    "        clean_length = len(clean_sentences)//10\n",
    "        train_set = clean_sentences[clean_length+1:]\n",
    "\n",
    "        #train model on train set\n",
    "        train, vocab = padded_everygram_pipeline(3, train_set)\n",
    "\n",
    "        #separate dev set and create everygrams based on each sentence\n",
    "        dev_set = clean_sentences[:clean_length]\n",
    "        every = []\n",
    "        for sentence in dev_set:\n",
    "            padded_trigrams = list(pad_both_ends(sentence, n=3))\n",
    "            every += [list(everygrams(padded_trigrams, max_len=3))]\n",
    "        return [name, (train, vocab), every]\n",
    "\n"
   ]
  },
  {
   "cell_type": "code",
   "execution_count": 71,
   "id": "312a1113",
   "metadata": {},
   "outputs": [
    {
     "ename": "FileNotFoundError",
     "evalue": "[Errno 2] No such file or directory: 'austen_utf8.tx'",
     "output_type": "error",
     "traceback": [
      "\u001b[1;31m---------------------------------------------------------------------------\u001b[0m",
      "\u001b[1;31mFileNotFoundError\u001b[0m                         Traceback (most recent call last)",
      "\u001b[1;32m~\\AppData\\Local\\Temp\\ipykernel_352\\3442505866.py\u001b[0m in \u001b[0;36m<module>\u001b[1;34m\u001b[0m\n\u001b[1;32m----> 1\u001b[1;33m \u001b[0mprint\u001b[0m\u001b[1;33m(\u001b[0m\u001b[0mdata_preprocessing\u001b[0m\u001b[1;33m(\u001b[0m\u001b[1;34m'austen_utf8.txt'\u001b[0m\u001b[1;33m,\u001b[0m \u001b[1;32mTrue\u001b[0m\u001b[1;33m)\u001b[0m\u001b[1;33m)\u001b[0m\u001b[1;33m\u001b[0m\u001b[1;33m\u001b[0m\u001b[0m\n\u001b[0m",
      "\u001b[1;32m~\\AppData\\Local\\Temp\\ipykernel_352\\3059849026.py\u001b[0m in \u001b[0;36mdata_preprocessing\u001b[1;34m(name, test)\u001b[0m\n\u001b[0;32m      4\u001b[0m \u001b[1;33m\u001b[0m\u001b[0m\n\u001b[0;32m      5\u001b[0m     \u001b[0msentences\u001b[0m \u001b[1;33m=\u001b[0m \u001b[1;33m[\u001b[0m\u001b[1;33m]\u001b[0m\u001b[1;33m\u001b[0m\u001b[1;33m\u001b[0m\u001b[0m\n\u001b[1;32m----> 6\u001b[1;33m     \u001b[0mftemp\u001b[0m \u001b[1;33m=\u001b[0m \u001b[0mopen\u001b[0m\u001b[1;33m(\u001b[0m\u001b[0mname\u001b[0m\u001b[1;33m[\u001b[0m\u001b[1;33m:\u001b[0m\u001b[1;33m-\u001b[0m\u001b[1;36m1\u001b[0m\u001b[1;33m]\u001b[0m\u001b[1;33m,\u001b[0m \u001b[1;34m'r'\u001b[0m\u001b[1;33m,\u001b[0m \u001b[0mencoding\u001b[0m\u001b[1;33m=\u001b[0m\u001b[1;34m'utf-8'\u001b[0m\u001b[1;33m)\u001b[0m\u001b[1;33m\u001b[0m\u001b[1;33m\u001b[0m\u001b[0m\n\u001b[0m\u001b[0;32m      7\u001b[0m     \u001b[0mtemp_lines\u001b[0m \u001b[1;33m=\u001b[0m \u001b[0mftemp\u001b[0m\u001b[1;33m.\u001b[0m\u001b[0mreadlines\u001b[0m\u001b[1;33m(\u001b[0m\u001b[1;33m)\u001b[0m\u001b[1;33m\u001b[0m\u001b[1;33m\u001b[0m\u001b[0m\n\u001b[0;32m      8\u001b[0m     \u001b[0mreal_lines\u001b[0m \u001b[1;33m=\u001b[0m \u001b[1;34m\"\"\u001b[0m\u001b[1;33m\u001b[0m\u001b[1;33m\u001b[0m\u001b[0m\n",
      "\u001b[1;31mFileNotFoundError\u001b[0m: [Errno 2] No such file or directory: 'austen_utf8.tx'"
     ]
    }
   ],
   "source": [
    "print(data_preprocessing('austen_utf8.txt ', True))"
   ]
  },
  {
   "cell_type": "code",
   "execution_count": null,
   "id": "fd4b4645",
   "metadata": {},
   "outputs": [],
   "source": []
  }
 ],
 "metadata": {
  "kernelspec": {
   "display_name": "Python 3 (ipykernel)",
   "language": "python",
   "name": "python3"
  },
  "language_info": {
   "codemirror_mode": {
    "name": "ipython",
    "version": 3
   },
   "file_extension": ".py",
   "mimetype": "text/x-python",
   "name": "python",
   "nbconvert_exporter": "python",
   "pygments_lexer": "ipython3",
   "version": "3.9.13"
  }
 },
 "nbformat": 4,
 "nbformat_minor": 5
}
